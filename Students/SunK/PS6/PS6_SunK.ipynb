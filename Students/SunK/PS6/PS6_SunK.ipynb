{
 "cells": [
  {
   "cell_type": "markdown",
   "metadata": {},
   "source": [
    "## Problem Set 6 (February 26, 2017)\n",
    "## MACS 30100\n",
    "## Dr. Rick Evans\n",
    "## Kevin Sun"
   ]
  },
  {
   "cell_type": "markdown",
   "metadata": {},
   "source": [
    "### 1) Decision Trees"
   ]
  },
  {
   "cell_type": "code",
   "execution_count": 45,
   "metadata": {},
   "outputs": [],
   "source": [
    "# import relevant libraries\n",
    "import pandas as pd\n",
    "import numpy as np\n",
    "from sklearn.tree import DecisionTreeRegressor, DecisionTreeClassifier\n",
    "from sklearn.cross_validation import train_test_split\n",
    "from sklearn.metrics import mean_squared_error\n",
    "from sklearn.tree import export_graphviz\n",
    "import graphviz\n",
    "from sklearn.ensemble import BaggingRegressor\n",
    "from sklearn.ensemble import RandomForestRegressor\n",
    "from pylab import rcParams\n",
    "import matplotlib.pyplot as plt\n",
    "import seaborn as sb\n",
    "from sklearn.model_selection import KFold\n",
    "from sklearn.linear_model import LogisticRegression"
   ]
  },
  {
   "cell_type": "code",
   "execution_count": 46,
   "metadata": {},
   "outputs": [
    {
     "data": {
      "text/html": [
       "<div>\n",
       "<style>\n",
       "    .dataframe thead tr:only-child th {\n",
       "        text-align: right;\n",
       "    }\n",
       "\n",
       "    .dataframe thead th {\n",
       "        text-align: left;\n",
       "    }\n",
       "\n",
       "    .dataframe tbody tr th {\n",
       "        vertical-align: top;\n",
       "    }\n",
       "</style>\n",
       "<table border=\"1\" class=\"dataframe\">\n",
       "  <thead>\n",
       "    <tr style=\"text-align: right;\">\n",
       "      <th></th>\n",
       "      <th>biden</th>\n",
       "      <th>female</th>\n",
       "      <th>age</th>\n",
       "      <th>educ</th>\n",
       "      <th>dem</th>\n",
       "      <th>rep</th>\n",
       "    </tr>\n",
       "  </thead>\n",
       "  <tbody>\n",
       "    <tr>\n",
       "      <th>0</th>\n",
       "      <td>90</td>\n",
       "      <td>0</td>\n",
       "      <td>19</td>\n",
       "      <td>12</td>\n",
       "      <td>1</td>\n",
       "      <td>0</td>\n",
       "    </tr>\n",
       "    <tr>\n",
       "      <th>1</th>\n",
       "      <td>70</td>\n",
       "      <td>1</td>\n",
       "      <td>51</td>\n",
       "      <td>14</td>\n",
       "      <td>1</td>\n",
       "      <td>0</td>\n",
       "    </tr>\n",
       "    <tr>\n",
       "      <th>2</th>\n",
       "      <td>60</td>\n",
       "      <td>0</td>\n",
       "      <td>27</td>\n",
       "      <td>14</td>\n",
       "      <td>0</td>\n",
       "      <td>0</td>\n",
       "    </tr>\n",
       "    <tr>\n",
       "      <th>3</th>\n",
       "      <td>50</td>\n",
       "      <td>1</td>\n",
       "      <td>43</td>\n",
       "      <td>14</td>\n",
       "      <td>1</td>\n",
       "      <td>0</td>\n",
       "    </tr>\n",
       "    <tr>\n",
       "      <th>4</th>\n",
       "      <td>60</td>\n",
       "      <td>1</td>\n",
       "      <td>38</td>\n",
       "      <td>14</td>\n",
       "      <td>0</td>\n",
       "      <td>1</td>\n",
       "    </tr>\n",
       "  </tbody>\n",
       "</table>\n",
       "</div>"
      ],
      "text/plain": [
       "   biden  female  age  educ  dem  rep\n",
       "0     90       0   19    12    1    0\n",
       "1     70       1   51    14    1    0\n",
       "2     60       0   27    14    0    0\n",
       "3     50       1   43    14    1    0\n",
       "4     60       1   38    14    0    1"
      ]
     },
     "execution_count": 46,
     "metadata": {},
     "output_type": "execute_result"
    }
   ],
   "source": [
    "# import data\n",
    "biden_GOAT_vp = pd.read_csv('biden.csv')\n",
    "biden_GOAT_vp.head()"
   ]
  },
  {
   "cell_type": "markdown",
   "metadata": {},
   "source": [
    "### 1a)"
   ]
  },
  {
   "cell_type": "code",
   "execution_count": 47,
   "metadata": {},
   "outputs": [],
   "source": [
    "# set response and predictor variables\n",
    "y = biden_GOAT_vp['biden'].values\n",
    "X = biden_GOAT_vp[['female', 'age', 'educ', 'dem', 'rep']].values"
   ]
  },
  {
   "cell_type": "code",
   "execution_count": 48,
   "metadata": {},
   "outputs": [
    {
     "data": {
      "text/plain": [
       "DecisionTreeRegressor(criterion='mse', max_depth=3, max_features=None,\n",
       "           max_leaf_nodes=None, min_impurity_decrease=0.0,\n",
       "           min_impurity_split=None, min_samples_leaf=1,\n",
       "           min_samples_split=2, min_weight_fraction_leaf=0.0,\n",
       "           presort=False, random_state=None, splitter='best')"
      ]
     },
     "execution_count": 48,
     "metadata": {},
     "output_type": "execute_result"
    }
   ],
   "source": [
    "# split the data in training and test set\n",
    "X_train, X_test, y_train, y_test = train_test_split(X, y, test_size = 0.3, random_state=25)\n",
    "biden_2020_tree = DecisionTreeRegressor(max_depth=3)\n",
    "\n",
    "biden_2020_tree.fit(X_train, y_train)"
   ]
  },
  {
   "cell_type": "code",
   "execution_count": 49,
   "metadata": {},
   "outputs": [
    {
     "data": {
      "image/svg+xml": [
       "<?xml version=\"1.0\" encoding=\"UTF-8\" standalone=\"no\"?>\n",
       "<!DOCTYPE svg PUBLIC \"-//W3C//DTD SVG 1.1//EN\"\n",
       " \"http://www.w3.org/Graphics/SVG/1.1/DTD/svg11.dtd\">\n",
       "<!-- Generated by graphviz version 2.40.1 (20161225.0304)\n",
       " -->\n",
       "<!-- Title: Tree Pages: 1 -->\n",
       "<svg width=\"998pt\" height=\"400pt\"\n",
       " viewBox=\"0.00 0.00 997.99 400.00\" xmlns=\"http://www.w3.org/2000/svg\" xmlns:xlink=\"http://www.w3.org/1999/xlink\">\n",
       "<g id=\"graph0\" class=\"graph\" transform=\"scale(1 1) rotate(0) translate(4 396)\">\n",
       "<title>Tree</title>\n",
       "<polygon fill=\"#ffffff\" stroke=\"transparent\" points=\"-4,4 -4,-396 993.9852,-396 993.9852,4 -4,4\"/>\n",
       "<!-- 0 -->\n",
       "<g id=\"node1\" class=\"node\">\n",
       "<title>0</title>\n",
       "<path fill=\"#e58139\" fill-opacity=\"0.388235\" stroke=\"#000000\" d=\"M544.194,-392.1003C544.194,-392.1003 452.7912,-392.1003 452.7912,-392.1003 446.7912,-392.1003 440.7912,-386.1003 440.7912,-380.1003 440.7912,-380.1003 440.7912,-328.6997 440.7912,-328.6997 440.7912,-322.6997 446.7912,-316.6997 452.7912,-316.6997 452.7912,-316.6997 544.194,-316.6997 544.194,-316.6997 550.194,-316.6997 556.194,-322.6997 556.194,-328.6997 556.194,-328.6997 556.194,-380.1003 556.194,-380.1003 556.194,-386.1003 550.194,-392.1003 544.194,-392.1003\"/>\n",
       "<text text-anchor=\"middle\" x=\"498.4926\" y=\"-375.4\" font-family=\"Helvetica,sans-Serif\" font-size=\"14.00\" fill=\"#000000\">X[3] &lt;= 0.5</text>\n",
       "<text text-anchor=\"middle\" x=\"498.4926\" y=\"-358.6\" font-family=\"Helvetica,sans-Serif\" font-size=\"14.00\" fill=\"#000000\">mse = 556.262</text>\n",
       "<text text-anchor=\"middle\" x=\"498.4926\" y=\"-341.8\" font-family=\"Helvetica,sans-Serif\" font-size=\"14.00\" fill=\"#000000\">samples = 1264</text>\n",
       "<text text-anchor=\"middle\" x=\"498.4926\" y=\"-325\" font-family=\"Helvetica,sans-Serif\" font-size=\"14.00\" fill=\"#000000\">value = 62.165</text>\n",
       "</g>\n",
       "<!-- 1 -->\n",
       "<g id=\"node2\" class=\"node\">\n",
       "<title>1</title>\n",
       "<path fill=\"#e58139\" fill-opacity=\"0.235294\" stroke=\"#000000\" d=\"M413.9778,-280.9003C413.9778,-280.9003 329.0074,-280.9003 329.0074,-280.9003 323.0074,-280.9003 317.0074,-274.9003 317.0074,-268.9003 317.0074,-268.9003 317.0074,-217.4997 317.0074,-217.4997 317.0074,-211.4997 323.0074,-205.4997 329.0074,-205.4997 329.0074,-205.4997 413.9778,-205.4997 413.9778,-205.4997 419.9778,-205.4997 425.9778,-211.4997 425.9778,-217.4997 425.9778,-217.4997 425.9778,-268.9003 425.9778,-268.9003 425.9778,-274.9003 419.9778,-280.9003 413.9778,-280.9003\"/>\n",
       "<text text-anchor=\"middle\" x=\"371.4926\" y=\"-264.2\" font-family=\"Helvetica,sans-Serif\" font-size=\"14.00\" fill=\"#000000\">X[4] &lt;= 0.5</text>\n",
       "<text text-anchor=\"middle\" x=\"371.4926\" y=\"-247.4\" font-family=\"Helvetica,sans-Serif\" font-size=\"14.00\" fill=\"#000000\">mse = 507.397</text>\n",
       "<text text-anchor=\"middle\" x=\"371.4926\" y=\"-230.6\" font-family=\"Helvetica,sans-Serif\" font-size=\"14.00\" fill=\"#000000\">samples = 724</text>\n",
       "<text text-anchor=\"middle\" x=\"371.4926\" y=\"-213.8\" font-family=\"Helvetica,sans-Serif\" font-size=\"14.00\" fill=\"#000000\">value = 52.811</text>\n",
       "</g>\n",
       "<!-- 0&#45;&gt;1 -->\n",
       "<g id=\"edge1\" class=\"edge\">\n",
       "<title>0&#45;&gt;1</title>\n",
       "<path fill=\"none\" stroke=\"#000000\" d=\"M455.4962,-316.7528C444.7381,-307.3331 433.1005,-297.1433 422.0142,-287.4362\"/>\n",
       "<polygon fill=\"#000000\" stroke=\"#000000\" points=\"424.274,-284.7628 414.4447,-280.8085 419.6627,-290.0293 424.274,-284.7628\"/>\n",
       "<text text-anchor=\"middle\" x=\"416.0994\" y=\"-301.5537\" font-family=\"Helvetica,sans-Serif\" font-size=\"14.00\" fill=\"#000000\">True</text>\n",
       "</g>\n",
       "<!-- 8 -->\n",
       "<g id=\"node9\" class=\"node\">\n",
       "<title>8</title>\n",
       "<path fill=\"#e58139\" fill-opacity=\"0.588235\" stroke=\"#000000\" d=\"M665.9778,-280.9003C665.9778,-280.9003 581.0074,-280.9003 581.0074,-280.9003 575.0074,-280.9003 569.0074,-274.9003 569.0074,-268.9003 569.0074,-268.9003 569.0074,-217.4997 569.0074,-217.4997 569.0074,-211.4997 575.0074,-205.4997 581.0074,-205.4997 581.0074,-205.4997 665.9778,-205.4997 665.9778,-205.4997 671.9778,-205.4997 677.9778,-211.4997 677.9778,-217.4997 677.9778,-217.4997 677.9778,-268.9003 677.9778,-268.9003 677.9778,-274.9003 671.9778,-280.9003 665.9778,-280.9003\"/>\n",
       "<text text-anchor=\"middle\" x=\"623.4926\" y=\"-264.2\" font-family=\"Helvetica,sans-Serif\" font-size=\"14.00\" fill=\"#000000\">X[1] &lt;= 54.5</text>\n",
       "<text text-anchor=\"middle\" x=\"623.4926\" y=\"-247.4\" font-family=\"Helvetica,sans-Serif\" font-size=\"14.00\" fill=\"#000000\">mse = 347.197</text>\n",
       "<text text-anchor=\"middle\" x=\"623.4926\" y=\"-230.6\" font-family=\"Helvetica,sans-Serif\" font-size=\"14.00\" fill=\"#000000\">samples = 540</text>\n",
       "<text text-anchor=\"middle\" x=\"623.4926\" y=\"-213.8\" font-family=\"Helvetica,sans-Serif\" font-size=\"14.00\" fill=\"#000000\">value = 74.706</text>\n",
       "</g>\n",
       "<!-- 0&#45;&gt;8 -->\n",
       "<g id=\"edge8\" class=\"edge\">\n",
       "<title>0&#45;&gt;8</title>\n",
       "<path fill=\"none\" stroke=\"#000000\" d=\"M540.8119,-316.7528C551.2987,-307.4237 562.6347,-297.3392 573.4517,-287.7164\"/>\n",
       "<polygon fill=\"#000000\" stroke=\"#000000\" points=\"576.0717,-290.0701 581.2169,-280.8085 571.4191,-284.8401 576.0717,-290.0701\"/>\n",
       "<text text-anchor=\"middle\" x=\"579.7587\" y=\"-301.5659\" font-family=\"Helvetica,sans-Serif\" font-size=\"14.00\" fill=\"#000000\">False</text>\n",
       "</g>\n",
       "<!-- 2 -->\n",
       "<g id=\"node3\" class=\"node\">\n",
       "<title>2</title>\n",
       "<path fill=\"#e58139\" fill-opacity=\"0.333333\" stroke=\"#000000\" d=\"M223.9778,-169.7003C223.9778,-169.7003 139.0074,-169.7003 139.0074,-169.7003 133.0074,-169.7003 127.0074,-163.7003 127.0074,-157.7003 127.0074,-157.7003 127.0074,-106.2997 127.0074,-106.2997 127.0074,-100.2997 133.0074,-94.2997 139.0074,-94.2997 139.0074,-94.2997 223.9778,-94.2997 223.9778,-94.2997 229.9778,-94.2997 235.9778,-100.2997 235.9778,-106.2997 235.9778,-106.2997 235.9778,-157.7003 235.9778,-157.7003 235.9778,-163.7003 229.9778,-169.7003 223.9778,-169.7003\"/>\n",
       "<text text-anchor=\"middle\" x=\"181.4926\" y=\"-153\" font-family=\"Helvetica,sans-Serif\" font-size=\"14.00\" fill=\"#000000\">X[0] &lt;= 0.5</text>\n",
       "<text text-anchor=\"middle\" x=\"181.4926\" y=\"-136.2\" font-family=\"Helvetica,sans-Serif\" font-size=\"14.00\" fill=\"#000000\">mse = 444.551</text>\n",
       "<text text-anchor=\"middle\" x=\"181.4926\" y=\"-119.4\" font-family=\"Helvetica,sans-Serif\" font-size=\"14.00\" fill=\"#000000\">samples = 468</text>\n",
       "<text text-anchor=\"middle\" x=\"181.4926\" y=\"-102.6\" font-family=\"Helvetica,sans-Serif\" font-size=\"14.00\" fill=\"#000000\">value = 58.868</text>\n",
       "</g>\n",
       "<!-- 1&#45;&gt;2 -->\n",
       "<g id=\"edge2\" class=\"edge\">\n",
       "<title>1&#45;&gt;2</title>\n",
       "<path fill=\"none\" stroke=\"#000000\" d=\"M316.7916,-211.1855C294.3362,-198.0432 268.1933,-182.7427 244.9074,-169.1143\"/>\n",
       "<polygon fill=\"#000000\" stroke=\"#000000\" points=\"246.5348,-166.0115 236.1364,-163.981 242.999,-172.0528 246.5348,-166.0115\"/>\n",
       "</g>\n",
       "<!-- 5 -->\n",
       "<g id=\"node6\" class=\"node\">\n",
       "<title>5</title>\n",
       "<path fill=\"#e58139\" fill-opacity=\"0.054902\" stroke=\"#000000\" d=\"M413.9778,-169.7003C413.9778,-169.7003 329.0074,-169.7003 329.0074,-169.7003 323.0074,-169.7003 317.0074,-163.7003 317.0074,-157.7003 317.0074,-157.7003 317.0074,-106.2997 317.0074,-106.2997 317.0074,-100.2997 323.0074,-94.2997 329.0074,-94.2997 329.0074,-94.2997 413.9778,-94.2997 413.9778,-94.2997 419.9778,-94.2997 425.9778,-100.2997 425.9778,-106.2997 425.9778,-106.2997 425.9778,-157.7003 425.9778,-157.7003 425.9778,-163.7003 419.9778,-169.7003 413.9778,-169.7003\"/>\n",
       "<text text-anchor=\"middle\" x=\"371.4926\" y=\"-153\" font-family=\"Helvetica,sans-Serif\" font-size=\"14.00\" fill=\"#000000\">X[0] &lt;= 0.5</text>\n",
       "<text text-anchor=\"middle\" x=\"371.4926\" y=\"-136.2\" font-family=\"Helvetica,sans-Serif\" font-size=\"14.00\" fill=\"#000000\">mse = 432.623</text>\n",
       "<text text-anchor=\"middle\" x=\"371.4926\" y=\"-119.4\" font-family=\"Helvetica,sans-Serif\" font-size=\"14.00\" fill=\"#000000\">samples = 256</text>\n",
       "<text text-anchor=\"middle\" x=\"371.4926\" y=\"-102.6\" font-family=\"Helvetica,sans-Serif\" font-size=\"14.00\" fill=\"#000000\">value = 41.738</text>\n",
       "</g>\n",
       "<!-- 1&#45;&gt;5 -->\n",
       "<g id=\"edge5\" class=\"edge\">\n",
       "<title>1&#45;&gt;5</title>\n",
       "<path fill=\"none\" stroke=\"#000000\" d=\"M371.4926,-205.5528C371.4926,-197.22 371.4926,-188.2845 371.4926,-179.6137\"/>\n",
       "<polygon fill=\"#000000\" stroke=\"#000000\" points=\"374.9927,-179.6084 371.4926,-169.6085 367.9927,-179.6085 374.9927,-179.6084\"/>\n",
       "</g>\n",
       "<!-- 3 -->\n",
       "<g id=\"node4\" class=\"node\">\n",
       "<title>3</title>\n",
       "<path fill=\"#e58139\" fill-opacity=\"0.294118\" stroke=\"#000000\" d=\"M96.9778,-58.6014C96.9778,-58.6014 12.0074,-58.6014 12.0074,-58.6014 6.0074,-58.6014 .0074,-52.6014 .0074,-46.6014 .0074,-46.6014 .0074,-11.7986 .0074,-11.7986 .0074,-5.7986 6.0074,.2014 12.0074,.2014 12.0074,.2014 96.9778,.2014 96.9778,.2014 102.9778,.2014 108.9778,-5.7986 108.9778,-11.7986 108.9778,-11.7986 108.9778,-46.6014 108.9778,-46.6014 108.9778,-52.6014 102.9778,-58.6014 96.9778,-58.6014\"/>\n",
       "<text text-anchor=\"middle\" x=\"54.4926\" y=\"-41.8\" font-family=\"Helvetica,sans-Serif\" font-size=\"14.00\" fill=\"#000000\">mse = 470.335</text>\n",
       "<text text-anchor=\"middle\" x=\"54.4926\" y=\"-25\" font-family=\"Helvetica,sans-Serif\" font-size=\"14.00\" fill=\"#000000\">samples = 235</text>\n",
       "<text text-anchor=\"middle\" x=\"54.4926\" y=\"-8.2\" font-family=\"Helvetica,sans-Serif\" font-size=\"14.00\" fill=\"#000000\">value = 56.489</text>\n",
       "</g>\n",
       "<!-- 2&#45;&gt;3 -->\n",
       "<g id=\"edge3\" class=\"edge\">\n",
       "<title>2&#45;&gt;3</title>\n",
       "<path fill=\"none\" stroke=\"#000000\" d=\"M134.9236,-94.3048C123.0747,-84.7137 110.3774,-74.4359 98.6525,-64.9452\"/>\n",
       "<polygon fill=\"#000000\" stroke=\"#000000\" points=\"100.6879,-62.0898 90.7131,-58.5186 96.2838,-67.5308 100.6879,-62.0898\"/>\n",
       "</g>\n",
       "<!-- 4 -->\n",
       "<g id=\"node5\" class=\"node\">\n",
       "<title>4</title>\n",
       "<path fill=\"#e58139\" fill-opacity=\"0.372549\" stroke=\"#000000\" d=\"M223.9778,-58.6014C223.9778,-58.6014 139.0074,-58.6014 139.0074,-58.6014 133.0074,-58.6014 127.0074,-52.6014 127.0074,-46.6014 127.0074,-46.6014 127.0074,-11.7986 127.0074,-11.7986 127.0074,-5.7986 133.0074,.2014 139.0074,.2014 139.0074,.2014 223.9778,.2014 223.9778,.2014 229.9778,.2014 235.9778,-5.7986 235.9778,-11.7986 235.9778,-11.7986 235.9778,-46.6014 235.9778,-46.6014 235.9778,-52.6014 229.9778,-58.6014 223.9778,-58.6014\"/>\n",
       "<text text-anchor=\"middle\" x=\"181.4926\" y=\"-41.8\" font-family=\"Helvetica,sans-Serif\" font-size=\"14.00\" fill=\"#000000\">mse = 407.088</text>\n",
       "<text text-anchor=\"middle\" x=\"181.4926\" y=\"-25\" font-family=\"Helvetica,sans-Serif\" font-size=\"14.00\" fill=\"#000000\">samples = 233</text>\n",
       "<text text-anchor=\"middle\" x=\"181.4926\" y=\"-8.2\" font-family=\"Helvetica,sans-Serif\" font-size=\"14.00\" fill=\"#000000\">value = 61.266</text>\n",
       "</g>\n",
       "<!-- 2&#45;&gt;4 -->\n",
       "<g id=\"edge4\" class=\"edge\">\n",
       "<title>2&#45;&gt;4</title>\n",
       "<path fill=\"none\" stroke=\"#000000\" d=\"M181.4926,-94.3048C181.4926,-85.9126 181.4926,-76.9946 181.4926,-68.5382\"/>\n",
       "<polygon fill=\"#000000\" stroke=\"#000000\" points=\"184.9927,-68.5186 181.4926,-58.5186 177.9927,-68.5187 184.9927,-68.5186\"/>\n",
       "</g>\n",
       "<!-- 6 -->\n",
       "<g id=\"node7\" class=\"node\">\n",
       "<title>6</title>\n",
       "<path fill=\"transparent\" stroke=\"#000000\" d=\"M350.9778,-58.6014C350.9778,-58.6014 266.0074,-58.6014 266.0074,-58.6014 260.0074,-58.6014 254.0074,-52.6014 254.0074,-46.6014 254.0074,-46.6014 254.0074,-11.7986 254.0074,-11.7986 254.0074,-5.7986 260.0074,.2014 266.0074,.2014 266.0074,.2014 350.9778,.2014 350.9778,.2014 356.9778,.2014 362.9778,-5.7986 362.9778,-11.7986 362.9778,-11.7986 362.9778,-46.6014 362.9778,-46.6014 362.9778,-52.6014 356.9778,-58.6014 350.9778,-58.6014\"/>\n",
       "<text text-anchor=\"middle\" x=\"308.4926\" y=\"-41.8\" font-family=\"Helvetica,sans-Serif\" font-size=\"14.00\" fill=\"#000000\">mse = 456.775</text>\n",
       "<text text-anchor=\"middle\" x=\"308.4926\" y=\"-25\" font-family=\"Helvetica,sans-Serif\" font-size=\"14.00\" fill=\"#000000\">samples = 123</text>\n",
       "<text text-anchor=\"middle\" x=\"308.4926\" y=\"-8.2\" font-family=\"Helvetica,sans-Serif\" font-size=\"14.00\" fill=\"#000000\">value = 38.333</text>\n",
       "</g>\n",
       "<!-- 5&#45;&gt;6 -->\n",
       "<g id=\"edge6\" class=\"edge\">\n",
       "<title>5&#45;&gt;6</title>\n",
       "<path fill=\"none\" stroke=\"#000000\" d=\"M348.3915,-94.3048C342.9658,-85.4515 337.1815,-76.013 331.7491,-67.1487\"/>\n",
       "<polygon fill=\"#000000\" stroke=\"#000000\" points=\"334.6697,-65.216 326.4602,-58.5186 328.7013,-68.8737 334.6697,-65.216\"/>\n",
       "</g>\n",
       "<!-- 7 -->\n",
       "<g id=\"node8\" class=\"node\">\n",
       "<title>7</title>\n",
       "<path fill=\"#e58139\" fill-opacity=\"0.105882\" stroke=\"#000000\" d=\"M477.9778,-58.6014C477.9778,-58.6014 393.0074,-58.6014 393.0074,-58.6014 387.0074,-58.6014 381.0074,-52.6014 381.0074,-46.6014 381.0074,-46.6014 381.0074,-11.7986 381.0074,-11.7986 381.0074,-5.7986 387.0074,.2014 393.0074,.2014 393.0074,.2014 477.9778,.2014 477.9778,.2014 483.9778,.2014 489.9778,-5.7986 489.9778,-11.7986 489.9778,-11.7986 489.9778,-46.6014 489.9778,-46.6014 489.9778,-52.6014 483.9778,-58.6014 477.9778,-58.6014\"/>\n",
       "<text text-anchor=\"middle\" x=\"435.4926\" y=\"-41.8\" font-family=\"Helvetica,sans-Serif\" font-size=\"14.00\" fill=\"#000000\">mse = 389.649</text>\n",
       "<text text-anchor=\"middle\" x=\"435.4926\" y=\"-25\" font-family=\"Helvetica,sans-Serif\" font-size=\"14.00\" fill=\"#000000\">samples = 133</text>\n",
       "<text text-anchor=\"middle\" x=\"435.4926\" y=\"-8.2\" font-family=\"Helvetica,sans-Serif\" font-size=\"14.00\" fill=\"#000000\">value = 44.887</text>\n",
       "</g>\n",
       "<!-- 5&#45;&gt;7 -->\n",
       "<g id=\"edge7\" class=\"edge\">\n",
       "<title>5&#45;&gt;7</title>\n",
       "<path fill=\"none\" stroke=\"#000000\" d=\"M394.9604,-94.3048C400.4722,-85.4515 406.3483,-76.013 411.867,-67.1487\"/>\n",
       "<polygon fill=\"#000000\" stroke=\"#000000\" points=\"414.9258,-68.8577 417.2398,-58.5186 408.9833,-65.1581 414.9258,-68.8577\"/>\n",
       "</g>\n",
       "<!-- 9 -->\n",
       "<g id=\"node10\" class=\"node\">\n",
       "<title>9</title>\n",
       "<path fill=\"#e58139\" fill-opacity=\"0.556863\" stroke=\"#000000\" d=\"M665.9778,-169.7003C665.9778,-169.7003 581.0074,-169.7003 581.0074,-169.7003 575.0074,-169.7003 569.0074,-163.7003 569.0074,-157.7003 569.0074,-157.7003 569.0074,-106.2997 569.0074,-106.2997 569.0074,-100.2997 575.0074,-94.2997 581.0074,-94.2997 581.0074,-94.2997 665.9778,-94.2997 665.9778,-94.2997 671.9778,-94.2997 677.9778,-100.2997 677.9778,-106.2997 677.9778,-106.2997 677.9778,-157.7003 677.9778,-157.7003 677.9778,-163.7003 671.9778,-169.7003 665.9778,-169.7003\"/>\n",
       "<text text-anchor=\"middle\" x=\"623.4926\" y=\"-153\" font-family=\"Helvetica,sans-Serif\" font-size=\"14.00\" fill=\"#000000\">X[2] &lt;= 15.5</text>\n",
       "<text text-anchor=\"middle\" x=\"623.4926\" y=\"-136.2\" font-family=\"Helvetica,sans-Serif\" font-size=\"14.00\" fill=\"#000000\">mse = 345.027</text>\n",
       "<text text-anchor=\"middle\" x=\"623.4926\" y=\"-119.4\" font-family=\"Helvetica,sans-Serif\" font-size=\"14.00\" fill=\"#000000\">samples = 340</text>\n",
       "<text text-anchor=\"middle\" x=\"623.4926\" y=\"-102.6\" font-family=\"Helvetica,sans-Serif\" font-size=\"14.00\" fill=\"#000000\">value = 72.606</text>\n",
       "</g>\n",
       "<!-- 8&#45;&gt;9 -->\n",
       "<g id=\"edge9\" class=\"edge\">\n",
       "<title>8&#45;&gt;9</title>\n",
       "<path fill=\"none\" stroke=\"#000000\" d=\"M623.4926,-205.5528C623.4926,-197.22 623.4926,-188.2845 623.4926,-179.6137\"/>\n",
       "<polygon fill=\"#000000\" stroke=\"#000000\" points=\"626.9927,-179.6084 623.4926,-169.6085 619.9927,-179.6085 626.9927,-179.6084\"/>\n",
       "</g>\n",
       "<!-- 12 -->\n",
       "<g id=\"node13\" class=\"node\">\n",
       "<title>12</title>\n",
       "<path fill=\"#e58139\" fill-opacity=\"0.647059\" stroke=\"#000000\" d=\"M854.9778,-169.7003C854.9778,-169.7003 770.0074,-169.7003 770.0074,-169.7003 764.0074,-169.7003 758.0074,-163.7003 758.0074,-157.7003 758.0074,-157.7003 758.0074,-106.2997 758.0074,-106.2997 758.0074,-100.2997 764.0074,-94.2997 770.0074,-94.2997 770.0074,-94.2997 854.9778,-94.2997 854.9778,-94.2997 860.9778,-94.2997 866.9778,-100.2997 866.9778,-106.2997 866.9778,-106.2997 866.9778,-157.7003 866.9778,-157.7003 866.9778,-163.7003 860.9778,-169.7003 854.9778,-169.7003\"/>\n",
       "<text text-anchor=\"middle\" x=\"812.4926\" y=\"-153\" font-family=\"Helvetica,sans-Serif\" font-size=\"14.00\" fill=\"#000000\">X[2] &lt;= 4.5</text>\n",
       "<text text-anchor=\"middle\" x=\"812.4926\" y=\"-136.2\" font-family=\"Helvetica,sans-Serif\" font-size=\"14.00\" fill=\"#000000\">mse = 330.649</text>\n",
       "<text text-anchor=\"middle\" x=\"812.4926\" y=\"-119.4\" font-family=\"Helvetica,sans-Serif\" font-size=\"14.00\" fill=\"#000000\">samples = 200</text>\n",
       "<text text-anchor=\"middle\" x=\"812.4926\" y=\"-102.6\" font-family=\"Helvetica,sans-Serif\" font-size=\"14.00\" fill=\"#000000\">value = 78.275</text>\n",
       "</g>\n",
       "<!-- 8&#45;&gt;12 -->\n",
       "<g id=\"edge12\" class=\"edge\">\n",
       "<title>8&#45;&gt;12</title>\n",
       "<path fill=\"none\" stroke=\"#000000\" d=\"M678.1592,-211.0364C700.3936,-197.9545 726.229,-182.754 749.2688,-169.1983\"/>\n",
       "<polygon fill=\"#000000\" stroke=\"#000000\" points=\"751.1048,-172.179 757.9488,-164.0914 747.5551,-166.1458 751.1048,-172.179\"/>\n",
       "</g>\n",
       "<!-- 10 -->\n",
       "<g id=\"node11\" class=\"node\">\n",
       "<title>10</title>\n",
       "<path fill=\"#e58139\" fill-opacity=\"0.533333\" stroke=\"#000000\" d=\"M604.9778,-58.6014C604.9778,-58.6014 520.0074,-58.6014 520.0074,-58.6014 514.0074,-58.6014 508.0074,-52.6014 508.0074,-46.6014 508.0074,-46.6014 508.0074,-11.7986 508.0074,-11.7986 508.0074,-5.7986 514.0074,.2014 520.0074,.2014 520.0074,.2014 604.9778,.2014 604.9778,.2014 610.9778,.2014 616.9778,-5.7986 616.9778,-11.7986 616.9778,-11.7986 616.9778,-46.6014 616.9778,-46.6014 616.9778,-52.6014 610.9778,-58.6014 604.9778,-58.6014\"/>\n",
       "<text text-anchor=\"middle\" x=\"562.4926\" y=\"-41.8\" font-family=\"Helvetica,sans-Serif\" font-size=\"14.00\" fill=\"#000000\">mse = 369.301</text>\n",
       "<text text-anchor=\"middle\" x=\"562.4926\" y=\"-25\" font-family=\"Helvetica,sans-Serif\" font-size=\"14.00\" fill=\"#000000\">samples = 247</text>\n",
       "<text text-anchor=\"middle\" x=\"562.4926\" y=\"-8.2\" font-family=\"Helvetica,sans-Serif\" font-size=\"14.00\" fill=\"#000000\">value = 71.105</text>\n",
       "</g>\n",
       "<!-- 9&#45;&gt;10 -->\n",
       "<g id=\"edge10\" class=\"edge\">\n",
       "<title>9&#45;&gt;10</title>\n",
       "<path fill=\"none\" stroke=\"#000000\" d=\"M601.1248,-94.3048C595.8714,-85.4515 590.2708,-76.013 585.0108,-67.1487\"/>\n",
       "<polygon fill=\"#000000\" stroke=\"#000000\" points=\"588.0029,-65.3325 579.8898,-58.5186 581.983,-68.9047 588.0029,-65.3325\"/>\n",
       "</g>\n",
       "<!-- 11 -->\n",
       "<g id=\"node12\" class=\"node\">\n",
       "<title>11</title>\n",
       "<path fill=\"#e58139\" fill-opacity=\"0.619608\" stroke=\"#000000\" d=\"M731.9778,-58.6014C731.9778,-58.6014 647.0074,-58.6014 647.0074,-58.6014 641.0074,-58.6014 635.0074,-52.6014 635.0074,-46.6014 635.0074,-46.6014 635.0074,-11.7986 635.0074,-11.7986 635.0074,-5.7986 641.0074,.2014 647.0074,.2014 647.0074,.2014 731.9778,.2014 731.9778,.2014 737.9778,.2014 743.9778,-5.7986 743.9778,-11.7986 743.9778,-11.7986 743.9778,-46.6014 743.9778,-46.6014 743.9778,-52.6014 737.9778,-58.6014 731.9778,-58.6014\"/>\n",
       "<text text-anchor=\"middle\" x=\"689.4926\" y=\"-41.8\" font-family=\"Helvetica,sans-Serif\" font-size=\"14.00\" fill=\"#000000\">mse = 258.693</text>\n",
       "<text text-anchor=\"middle\" x=\"689.4926\" y=\"-25\" font-family=\"Helvetica,sans-Serif\" font-size=\"14.00\" fill=\"#000000\">samples = 93</text>\n",
       "<text text-anchor=\"middle\" x=\"689.4926\" y=\"-8.2\" font-family=\"Helvetica,sans-Serif\" font-size=\"14.00\" fill=\"#000000\">value = 76.591</text>\n",
       "</g>\n",
       "<!-- 9&#45;&gt;11 -->\n",
       "<g id=\"edge11\" class=\"edge\">\n",
       "<title>9&#45;&gt;11</title>\n",
       "<path fill=\"none\" stroke=\"#000000\" d=\"M647.6938,-94.3048C653.3778,-85.4515 659.4376,-76.013 665.1287,-67.1487\"/>\n",
       "<polygon fill=\"#000000\" stroke=\"#000000\" points=\"668.2119,-68.8246 670.6694,-58.5186 662.3215,-65.0427 668.2119,-68.8246\"/>\n",
       "</g>\n",
       "<!-- 13 -->\n",
       "<g id=\"node14\" class=\"node\">\n",
       "<title>13</title>\n",
       "<path fill=\"#e58139\" stroke=\"#000000\" d=\"M850.9247,-58.6014C850.9247,-58.6014 774.0605,-58.6014 774.0605,-58.6014 768.0605,-58.6014 762.0605,-52.6014 762.0605,-46.6014 762.0605,-46.6014 762.0605,-11.7986 762.0605,-11.7986 762.0605,-5.7986 768.0605,.2014 774.0605,.2014 774.0605,.2014 850.9247,.2014 850.9247,.2014 856.9247,.2014 862.9247,-5.7986 862.9247,-11.7986 862.9247,-11.7986 862.9247,-46.6014 862.9247,-46.6014 862.9247,-52.6014 856.9247,-58.6014 850.9247,-58.6014\"/>\n",
       "<text text-anchor=\"middle\" x=\"812.4926\" y=\"-41.8\" font-family=\"Helvetica,sans-Serif\" font-size=\"14.00\" fill=\"#000000\">mse = 0.0</text>\n",
       "<text text-anchor=\"middle\" x=\"812.4926\" y=\"-25\" font-family=\"Helvetica,sans-Serif\" font-size=\"14.00\" fill=\"#000000\">samples = 3</text>\n",
       "<text text-anchor=\"middle\" x=\"812.4926\" y=\"-8.2\" font-family=\"Helvetica,sans-Serif\" font-size=\"14.00\" fill=\"#000000\">value = 100.0</text>\n",
       "</g>\n",
       "<!-- 12&#45;&gt;13 -->\n",
       "<g id=\"edge13\" class=\"edge\">\n",
       "<title>12&#45;&gt;13</title>\n",
       "<path fill=\"none\" stroke=\"#000000\" d=\"M812.4926,-94.3048C812.4926,-85.9126 812.4926,-76.9946 812.4926,-68.5382\"/>\n",
       "<polygon fill=\"#000000\" stroke=\"#000000\" points=\"815.9927,-68.5186 812.4926,-58.5186 808.9927,-68.5187 815.9927,-68.5186\"/>\n",
       "</g>\n",
       "<!-- 14 -->\n",
       "<g id=\"node15\" class=\"node\">\n",
       "<title>14</title>\n",
       "<path fill=\"#e58139\" fill-opacity=\"0.643137\" stroke=\"#000000\" d=\"M977.9778,-58.6014C977.9778,-58.6014 893.0074,-58.6014 893.0074,-58.6014 887.0074,-58.6014 881.0074,-52.6014 881.0074,-46.6014 881.0074,-46.6014 881.0074,-11.7986 881.0074,-11.7986 881.0074,-5.7986 887.0074,.2014 893.0074,.2014 893.0074,.2014 977.9778,.2014 977.9778,.2014 983.9778,.2014 989.9778,-5.7986 989.9778,-11.7986 989.9778,-11.7986 989.9778,-46.6014 989.9778,-46.6014 989.9778,-52.6014 983.9778,-58.6014 977.9778,-58.6014\"/>\n",
       "<text text-anchor=\"middle\" x=\"935.4926\" y=\"-41.8\" font-family=\"Helvetica,sans-Serif\" font-size=\"14.00\" fill=\"#000000\">mse = 328.388</text>\n",
       "<text text-anchor=\"middle\" x=\"935.4926\" y=\"-25\" font-family=\"Helvetica,sans-Serif\" font-size=\"14.00\" fill=\"#000000\">samples = 197</text>\n",
       "<text text-anchor=\"middle\" x=\"935.4926\" y=\"-8.2\" font-family=\"Helvetica,sans-Serif\" font-size=\"14.00\" fill=\"#000000\">value = 77.944</text>\n",
       "</g>\n",
       "<!-- 12&#45;&gt;14 -->\n",
       "<g id=\"edge14\" class=\"edge\">\n",
       "<title>12&#45;&gt;14</title>\n",
       "<path fill=\"none\" stroke=\"#000000\" d=\"M857.5948,-94.3048C869.0705,-84.7137 881.368,-74.4359 892.7235,-64.9452\"/>\n",
       "<polygon fill=\"#000000\" stroke=\"#000000\" points=\"894.9844,-67.6171 900.4129,-58.5186 890.4954,-62.246 894.9844,-67.6171\"/>\n",
       "</g>\n",
       "</g>\n",
       "</svg>\n"
      ],
      "text/plain": [
       "<graphviz.files.Source at 0x108a3f8d0>"
      ]
     },
     "execution_count": 49,
     "metadata": {},
     "output_type": "execute_result"
    }
   ],
   "source": [
    "# map the tree visualization\n",
    "biden_2020_tree_viz = export_graphviz(biden_2020_tree, out_file=None, rounded=True, filled=True)\n",
    "graph = graphviz.Source(biden_2020_tree_viz)\n",
    "graph.render('biden_2020_tree')\n",
    "graph"
   ]
  },
  {
   "cell_type": "code",
   "execution_count": 50,
   "metadata": {},
   "outputs": [
    {
     "name": "stdout",
     "output_type": "stream",
     "text": [
      "MSE= 394.761999922\n"
     ]
    }
   ],
   "source": [
    "y_pred = biden_2020_tree.predict(X_test)\n",
    "MSE1 = mean_squared_error(y_test, y_pred)\n",
    "print('MSE=', MSE1)"
   ]
  },
  {
   "cell_type": "markdown",
   "metadata": {},
   "source": [
    "#### Interpretation\n",
    "\n",
    "The main split is on our X3 variable (dem - whether or not individual identifies as a Democrat). As we would expect, individuals who do identify as Democrats have much warmer feelings towards Joe Biden (74.706) compared to non-Democrat individuals' feelings (52.811). \n",
    "\n",
    "Within identfied Democrats, the tree further divides on our X1 variable with those below 54.5 years of age and those above. Those above 54.5 years of age have slightly warmer feelings than those below (78.275 vs. 72.606). Within each of these age groups, we further divide by on our X2 variable (educ - num. of years of education). For younger individuals below 54.5 years-old, if they have greater than 15.5 years of education, they have slightly warmer feelings towards Biden than those will less education. For older individuals over 54.5 years-old, those with less than 4.5 years of education have the highest warmth of feelings towards Biden at 100, but there is only a sample of 3. \n",
    "\n",
    "Within non-Democrat individuals, the tree first divides on our X4 variable (rep - whether the individual identifies as Republican or not). Republican-identified individuals have much colder feelings towards Biden at 41.738 compared to Independent or third party identified individuals at 58.868. Within Republican identified individuals, women view Biden more favorably than men. Within non-Republican and non-Democrat individuals women also have slightly more favorable views of Biden than men. "
   ]
  },
  {
   "cell_type": "markdown",
   "metadata": {},
   "source": [
    "### 1b) Pruning the tree"
   ]
  },
  {
   "cell_type": "code",
   "execution_count": 51,
   "metadata": {},
   "outputs": [
    {
     "data": {
      "text/plain": [
       "1264"
      ]
     },
     "execution_count": 51,
     "metadata": {},
     "output_type": "execute_result"
    }
   ],
   "source": [
    "nobs = len(X_train)\n",
    "nobs"
   ]
  },
  {
   "cell_type": "code",
   "execution_count": 62,
   "metadata": {},
   "outputs": [
    {
     "name": "stdout",
     "output_type": "stream",
     "text": [
      "k index= 0\n",
      "MSE for test set 0  is 501.356353591\n",
      "k index= 1\n",
      "MSE for test set 1  is 565.607734807\n",
      "k index= 2\n",
      "MSE for test set 2  is 463.736842105\n",
      "k index= 3\n",
      "MSE for test set 3  is 520.925207756\n",
      "k index= 4\n",
      "MSE for test set 4  is 446.606648199\n",
      "test estimate MSE k-fold= 499.646557292 test estimate MSE standard err= 42.2121331122\n"
     ]
    }
   ],
   "source": [
    "# for each of the max_depth run a k-folds (nested for loop)\n",
    "# max graph with SE on x axis and max_depth on y axis\n",
    "k = 5\n",
    "kf = KFold(n_splits=k, random_state=25, shuffle=True)\n",
    "kf.get_n_splits(X)\n",
    "\n",
    "MSE_vec_kf = np.zeros(k)\n",
    "\n",
    "k_ind = int(0)\n",
    "for train_index, test_index in kf.split(X):\n",
    "    print('k index=', k_ind)\n",
    "    X_train, X_test = X[train_index], X[test_index]\n",
    "    y_train, y_test = y[train_index], y[test_index]\n",
    "    LogReg = LogisticRegression()\n",
    "    LogReg.fit(X_train, y_train)\n",
    "    y_pred = LogReg.predict(X_test)\n",
    "    MSE_vec_kf[k_ind] = ((y_test - y_pred) ** 2).mean()\n",
    "    print('MSE for test set', k_ind, ' is', MSE_vec_kf[k_ind])\n",
    "    k_ind += 1\n",
    "\n",
    "MSE_kf = MSE_vec_kf.mean()\n",
    "MSE_kf_std = MSE_vec_kf.std()\n",
    "print('test estimate MSE k-fold=', MSE_kf,\n",
    "      'test estimate MSE standard err=', MSE_kf_std)"
   ]
  },
  {
   "cell_type": "code",
   "execution_count": 33,
   "metadata": {},
   "outputs": [
    {
     "data": {
      "text/plain": [
       "'biden_2020_tree.pdf'"
      ]
     },
     "execution_count": 33,
     "metadata": {},
     "output_type": "execute_result"
    }
   ],
   "source": [
    "# What are the parameters used in the instructions? \n",
    "biden_2024_tree = DecisionTreeRegressor(max_depth=3, min_impurity_decrease=0.0)\n",
    "biden_2024_tree.fit(X_train, y_train)\n",
    "\n",
    "# map the tree visualization\n",
    "biden_2024_tree_viz = export_graphviz(biden_2024_tree, out_file=None, rounded=True, filled=True)\n",
    "graph = graphviz.Source(biden_2024_tree_viz)\n",
    "graph.render('biden_2020_tree')\n",
    "#graph"
   ]
  },
  {
   "cell_type": "code",
   "execution_count": 30,
   "metadata": {},
   "outputs": [
    {
     "name": "stdout",
     "output_type": "stream",
     "text": [
      "MSE= 400.113290357\n"
     ]
    }
   ],
   "source": [
    "y_pred = biden_2024_tree.predict(X_test)\n",
    "MSE1b = mean_squared_error(y_test, y_pred)\n",
    "print('MSE=', MSE1b)"
   ]
  },
  {
   "cell_type": "markdown",
   "metadata": {},
   "source": [
    "### 1c) Bagging"
   ]
  },
  {
   "cell_type": "code",
   "execution_count": 54,
   "metadata": {},
   "outputs": [
    {
     "data": {
      "text/plain": [
       "BaggingRegressor(base_estimator=DecisionTreeRegressor(criterion='mse', max_depth=None, max_features=None,\n",
       "           max_leaf_nodes=None, min_impurity_decrease=0.0,\n",
       "           min_impurity_split=None, min_samples_leaf=1,\n",
       "           min_samples_split=2, min_weight_fraction_leaf=0.0,\n",
       "           presort=False, random_state=None, splitter='best'),\n",
       "         bootstrap=True, bootstrap_features=False, max_features=1.0,\n",
       "         max_samples=100, n_estimators=100, n_jobs=1, oob_score=True,\n",
       "         random_state=25, verbose=0, warm_start=False)"
      ]
     },
     "execution_count": 54,
     "metadata": {},
     "output_type": "execute_result"
    }
   ],
   "source": [
    "biden_bags_presidency_tree = BaggingRegressor(DecisionTreeRegressor(), n_estimators=100,\n",
    "                             max_samples=100, bootstrap=True, oob_score=True, random_state=25)\n",
    "biden_bags_presidency_tree.fit(X, y)"
   ]
  },
  {
   "cell_type": "code",
   "execution_count": 56,
   "metadata": {},
   "outputs": [
    {
     "name": "stdout",
     "output_type": "stream",
     "text": [
      "MSE= 405.227410433\n"
     ]
    }
   ],
   "source": [
    "# calculate MSE\n",
    "biden_bags_presidency_tree.score(X, y)\n",
    "y_pred_bag = biden_bags_presidency_tree.oob_prediction_\n",
    "MSE2 = mean_squared_error(y, y_pred_bag)\n",
    "print('MSE=', MSE2)"
   ]
  },
  {
   "cell_type": "code",
   "execution_count": 59,
   "metadata": {},
   "outputs": [
    {
     "name": "stderr",
     "output_type": "stream",
     "text": [
      "/Users/kevinsun/anaconda3/lib/python3.6/site-packages/sklearn/ensemble/bagging.py:987: UserWarning: Some inputs do not have OOB scores. This probably means too few estimators were used to compute any reliable oob estimates.\n",
      "  warn(\"Some inputs do not have OOB scores. \"\n",
      "/Users/kevinsun/anaconda3/lib/python3.6/site-packages/sklearn/ensemble/bagging.py:987: UserWarning: Some inputs do not have OOB scores. This probably means too few estimators were used to compute any reliable oob estimates.\n",
      "  warn(\"Some inputs do not have OOB scores. \"\n"
     ]
    },
    {
     "name": "stdout",
     "output_type": "stream",
     "text": [
      "Min. MSE= 403.326854933 , Min. B= 148\n"
     ]
    },
    {
     "data": {
      "image/png": "[encoded data removed]",
      "text/plain": [
       "<matplotlib.figure.Figure at 0x1a08cbda90>"
      ]
     },
     "metadata": {},
     "output_type": "display_data"
    }
   ],
   "source": [
    "# determine optimal number of samples\n",
    "%matplotlib inline\n",
    "rcParams['figure.figsize'] = 10, 8\n",
    "sb.set_style('whitegrid')\n",
    "\n",
    "MSE_base = MSE1\n",
    "max_samples = 150\n",
    "MSE_vec = np.zeros(max_samples)\n",
    "for ind in range(1, max_samples + 1):\n",
    "    biden_tree_loop = BaggingRegressor(DecisionTreeRegressor(), n_estimators=ind,\n",
    "                                 max_samples=100, bootstrap=True, oob_score=True,\n",
    "                                 random_state=25)\n",
    "    biden_tree_loop.fit(X, y)\n",
    "    y_pred_loop = biden_tree_loop.oob_prediction_\n",
    "    MSE_vec[ind - 1] = mean_squared_error(y, y_pred_loop)\n",
    "\n",
    "fig, ax = plt.subplots()\n",
    "plt.plot(np.arange(1, max_samples + 1), MSE_base * np.ones(max_samples),\n",
    "         label='Base MSE')\n",
    "plt.plot(np.arange(1, max_samples + 1), MSE_vec, label='Bagging MSE')\n",
    "# for the minor ticks, use no labels; default NullFormatter\n",
    "plt.title('Bagging MSE vs. Basic Tree MSE', fontsize=20)\n",
    "plt.xlabel(r'Max. bagging samples $B$')\n",
    "plt.ylabel(r'MSE')\n",
    "plt.xlim((0, max_samples + 1))\n",
    "plt.legend(loc='best')\n",
    "\n",
    "print('Min. MSE=', MSE_vec.min(), ', Min. B=', np.argwhere(MSE_vec == MSE_vec.min())[0, 0] - 1)"
   ]
  },
  {
   "cell_type": "markdown",
   "metadata": {},
   "source": [
    "### 1d) Random Forest"
   ]
  },
  {
   "cell_type": "code",
   "execution_count": 61,
   "metadata": {},
   "outputs": [
    {
     "name": "stdout",
     "output_type": "stream",
     "text": [
      "MSE= 535.303205925\n"
     ]
    }
   ],
   "source": [
    "B = 100\n",
    "m = 1\n",
    "biden_random_forest = RandomForestRegressor(n_estimators=B, max_features=m, bootstrap=True,\n",
    "                                  oob_score=True, random_state=25)\n",
    "biden_random_forest.fit(X, y)\n",
    "\n",
    "biden_random_forest.score(X, y)\n",
    "y_pred_rf = biden_random_forest.oob_prediction_\n",
    "MSE4 = mean_squared_error(y, y_pred_rf)\n",
    "print('MSE=', MSE4)"
   ]
  },
  {
   "cell_type": "code",
   "execution_count": 27,
   "metadata": {},
   "outputs": [
    {
     "name": "stdout",
     "output_type": "stream",
     "text": [
      "Feature Ranking:\n",
      "\n",
      "1 .  female :  0.478975783969\n",
      "2 .  age :  0.253838596315\n",
      "3 .  educ :  0.162716068913\n",
      "4 .  dem :  0.0870908655179\n",
      "5 .  rep :  0.0173786852847\n"
     ]
    }
   ],
   "source": [
    "# calculate variable importances\n",
    "importances = biden_random_forest.feature_importances_\n",
    "std = np.std([tree.feature_importances_ for tree in biden_random_forest.estimators_],\n",
    "             axis=0)\n",
    "indices = np.argsort(importances)[::-1]\n",
    "\n",
    "# print the rankings of features\n",
    "print(\"Feature Ranking:\")\n",
    "print()\n",
    "features = ['female', 'age', 'educ', 'dem', 'rep']\n",
    "for f in range(X.shape[1]):\n",
    "    print(str(f+1), \". \", features[f], \": \",str(importances[indices[f]]))"
   ]
  },
  {
   "cell_type": "code",
   "execution_count": 43,
   "metadata": {},
   "outputs": [
    {
     "name": "stdout",
     "output_type": "stream",
     "text": [
      "MSE= 535.676877523\n",
      "Feature Ranking:\n",
      "\n",
      "1 .  female :  0.513447807068\n",
      "2 .  age :  0.184413807351\n",
      "3 .  educ :  0.151779735233\n",
      "4 .  dem :  0.129449265728\n",
      "5 .  rep :  0.0209093846201\n"
     ]
    }
   ],
   "source": [
    "B = 100\n",
    "m = 2\n",
    "biden_random_forest = RandomForestRegressor(n_estimators=B, max_features=m, bootstrap=True,\n",
    "                                  oob_score=True, random_state=25)\n",
    "biden_random_forest.fit(X, y)\n",
    "\n",
    "biden_random_forest.score(X, y)\n",
    "y_pred_rf = biden_random_forest.oob_prediction_\n",
    "MSE4 = mean_squared_error(y, y_pred_rf)\n",
    "print('MSE=', MSE4)\n",
    "\n",
    "# calculate variable importances\n",
    "importances = biden_random_forest.feature_importances_\n",
    "std = np.std([tree.feature_importances_ for tree in biden_random_forest.estimators_],\n",
    "             axis=0)\n",
    "indices = np.argsort(importances)[::-1]\n",
    "\n",
    "# print the rankings of features\n",
    "print(\"Feature Ranking:\")\n",
    "print()\n",
    "features = ['female', 'age', 'educ', 'dem', 'rep']\n",
    "for f in range(X.shape[1]):\n",
    "    print(str(f+1), \". \", features[f], \": \",str(importances[indices[f]]))"
   ]
  },
  {
   "cell_type": "code",
   "execution_count": 44,
   "metadata": {},
   "outputs": [
    {
     "name": "stdout",
     "output_type": "stream",
     "text": [
      "MSE= 534.489301047\n",
      "Feature Ranking:\n",
      "\n",
      "1 .  female :  0.486208492733\n",
      "2 .  age :  0.203115126926\n",
      "3 .  educ :  0.170068692665\n",
      "4 .  dem :  0.112758675093\n",
      "5 .  rep :  0.0278490125828\n"
     ]
    }
   ],
   "source": [
    "B = 100\n",
    "m = 3\n",
    "biden_random_forest = RandomForestRegressor(n_estimators=B, max_features=m, bootstrap=True,\n",
    "                                  oob_score=True, random_state=25)\n",
    "biden_random_forest.fit(X, y)\n",
    "\n",
    "biden_random_forest.score(X, y)\n",
    "y_pred_rf = biden_random_forest.oob_prediction_\n",
    "MSE4 = mean_squared_error(y, y_pred_rf)\n",
    "print('MSE=', MSE4)\n",
    "\n",
    "# calculate variable importances\n",
    "importances = biden_random_forest.feature_importances_\n",
    "std = np.std([tree.feature_importances_ for tree in biden_random_forest.estimators_],\n",
    "             axis=0)\n",
    "indices = np.argsort(importances)[::-1]\n",
    "\n",
    "# print the rankings of features\n",
    "print(\"Feature Ranking:\")\n",
    "print()\n",
    "features = ['female', 'age', 'educ', 'dem', 'rep']\n",
    "for f in range(X.shape[1]):\n",
    "    print(str(f+1), \". \", features[f], \": \",str(importances[indices[f]]))"
   ]
  }
 ],
 "metadata": {
  "kernelspec": {
   "display_name": "Python 3",
   "language": "python",
   "name": "python3"
  },
  "language_info": {
   "codemirror_mode": {
    "name": "ipython",
    "version": 3
   },
   "file_extension": ".py",
   "mimetype": "text/x-python",
   "name": "python",
   "nbconvert_exporter": "python",
   "pygments_lexer": "ipython3",
   "version": "3.6.2"
  }
 },
 "nbformat": 4,
 "nbformat_minor": 2
}
